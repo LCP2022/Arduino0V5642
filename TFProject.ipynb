{
  "nbformat": 4,
  "nbformat_minor": 0,
  "metadata": {
    "colab": {
      "provenance": [],
      "authorship_tag": "ABX9TyPLrIOtxIF/ceV72QdZAehK",
      "include_colab_link": true
    },
    "kernelspec": {
      "name": "python3",
      "display_name": "Python 3"
    },
    "language_info": {
      "name": "python"
    }
  },
  "cells": [
    {
      "cell_type": "markdown",
      "metadata": {
        "id": "view-in-github",
        "colab_type": "text"
      },
      "source": [
        "<a href=\"https://colab.research.google.com/github/LCP2022/Arduino0V5642/blob/main/TFProject.ipynb\" target=\"_parent\"><img src=\"https://colab.research.google.com/assets/colab-badge.svg\" alt=\"Open In Colab\"/></a>"
      ]
    },
    {
      "cell_type": "code",
      "source": [
        "from google.colab import files\n",
        "\n",
        "# Prompt the user to upload a file\n",
        "uploaded = files.upload()"
      ],
      "metadata": {
        "colab": {
          "base_uri": "https://localhost:8080/",
          "height": 110
        },
        "id": "YQkgVu8HxqhS",
        "outputId": "c6d96711-ecd7-48bd-cc72-053801d0b4c4"
      },
      "execution_count": 2,
      "outputs": [
        {
          "output_type": "display_data",
          "data": {
            "text/plain": [
              "<IPython.core.display.HTML object>"
            ],
            "text/html": [
              "\n",
              "     <input type=\"file\" id=\"files-49b199af-93c1-4b87-a17b-870ba85bb226\" name=\"files[]\" multiple disabled\n",
              "        style=\"border:none\" />\n",
              "     <output id=\"result-49b199af-93c1-4b87-a17b-870ba85bb226\">\n",
              "      Upload widget is only available when the cell has been executed in the\n",
              "      current browser session. Please rerun this cell to enable.\n",
              "      </output>\n",
              "      <script>// Copyright 2017 Google LLC\n",
              "//\n",
              "// Licensed under the Apache License, Version 2.0 (the \"License\");\n",
              "// you may not use this file except in compliance with the License.\n",
              "// You may obtain a copy of the License at\n",
              "//\n",
              "//      http://www.apache.org/licenses/LICENSE-2.0\n",
              "//\n",
              "// Unless required by applicable law or agreed to in writing, software\n",
              "// distributed under the License is distributed on an \"AS IS\" BASIS,\n",
              "// WITHOUT WARRANTIES OR CONDITIONS OF ANY KIND, either express or implied.\n",
              "// See the License for the specific language governing permissions and\n",
              "// limitations under the License.\n",
              "\n",
              "/**\n",
              " * @fileoverview Helpers for google.colab Python module.\n",
              " */\n",
              "(function(scope) {\n",
              "function span(text, styleAttributes = {}) {\n",
              "  const element = document.createElement('span');\n",
              "  element.textContent = text;\n",
              "  for (const key of Object.keys(styleAttributes)) {\n",
              "    element.style[key] = styleAttributes[key];\n",
              "  }\n",
              "  return element;\n",
              "}\n",
              "\n",
              "// Max number of bytes which will be uploaded at a time.\n",
              "const MAX_PAYLOAD_SIZE = 100 * 1024;\n",
              "\n",
              "function _uploadFiles(inputId, outputId) {\n",
              "  const steps = uploadFilesStep(inputId, outputId);\n",
              "  const outputElement = document.getElementById(outputId);\n",
              "  // Cache steps on the outputElement to make it available for the next call\n",
              "  // to uploadFilesContinue from Python.\n",
              "  outputElement.steps = steps;\n",
              "\n",
              "  return _uploadFilesContinue(outputId);\n",
              "}\n",
              "\n",
              "// This is roughly an async generator (not supported in the browser yet),\n",
              "// where there are multiple asynchronous steps and the Python side is going\n",
              "// to poll for completion of each step.\n",
              "// This uses a Promise to block the python side on completion of each step,\n",
              "// then passes the result of the previous step as the input to the next step.\n",
              "function _uploadFilesContinue(outputId) {\n",
              "  const outputElement = document.getElementById(outputId);\n",
              "  const steps = outputElement.steps;\n",
              "\n",
              "  const next = steps.next(outputElement.lastPromiseValue);\n",
              "  return Promise.resolve(next.value.promise).then((value) => {\n",
              "    // Cache the last promise value to make it available to the next\n",
              "    // step of the generator.\n",
              "    outputElement.lastPromiseValue = value;\n",
              "    return next.value.response;\n",
              "  });\n",
              "}\n",
              "\n",
              "/**\n",
              " * Generator function which is called between each async step of the upload\n",
              " * process.\n",
              " * @param {string} inputId Element ID of the input file picker element.\n",
              " * @param {string} outputId Element ID of the output display.\n",
              " * @return {!Iterable<!Object>} Iterable of next steps.\n",
              " */\n",
              "function* uploadFilesStep(inputId, outputId) {\n",
              "  const inputElement = document.getElementById(inputId);\n",
              "  inputElement.disabled = false;\n",
              "\n",
              "  const outputElement = document.getElementById(outputId);\n",
              "  outputElement.innerHTML = '';\n",
              "\n",
              "  const pickedPromise = new Promise((resolve) => {\n",
              "    inputElement.addEventListener('change', (e) => {\n",
              "      resolve(e.target.files);\n",
              "    });\n",
              "  });\n",
              "\n",
              "  const cancel = document.createElement('button');\n",
              "  inputElement.parentElement.appendChild(cancel);\n",
              "  cancel.textContent = 'Cancel upload';\n",
              "  const cancelPromise = new Promise((resolve) => {\n",
              "    cancel.onclick = () => {\n",
              "      resolve(null);\n",
              "    };\n",
              "  });\n",
              "\n",
              "  // Wait for the user to pick the files.\n",
              "  const files = yield {\n",
              "    promise: Promise.race([pickedPromise, cancelPromise]),\n",
              "    response: {\n",
              "      action: 'starting',\n",
              "    }\n",
              "  };\n",
              "\n",
              "  cancel.remove();\n",
              "\n",
              "  // Disable the input element since further picks are not allowed.\n",
              "  inputElement.disabled = true;\n",
              "\n",
              "  if (!files) {\n",
              "    return {\n",
              "      response: {\n",
              "        action: 'complete',\n",
              "      }\n",
              "    };\n",
              "  }\n",
              "\n",
              "  for (const file of files) {\n",
              "    const li = document.createElement('li');\n",
              "    li.append(span(file.name, {fontWeight: 'bold'}));\n",
              "    li.append(span(\n",
              "        `(${file.type || 'n/a'}) - ${file.size} bytes, ` +\n",
              "        `last modified: ${\n",
              "            file.lastModifiedDate ? file.lastModifiedDate.toLocaleDateString() :\n",
              "                                    'n/a'} - `));\n",
              "    const percent = span('0% done');\n",
              "    li.appendChild(percent);\n",
              "\n",
              "    outputElement.appendChild(li);\n",
              "\n",
              "    const fileDataPromise = new Promise((resolve) => {\n",
              "      const reader = new FileReader();\n",
              "      reader.onload = (e) => {\n",
              "        resolve(e.target.result);\n",
              "      };\n",
              "      reader.readAsArrayBuffer(file);\n",
              "    });\n",
              "    // Wait for the data to be ready.\n",
              "    let fileData = yield {\n",
              "      promise: fileDataPromise,\n",
              "      response: {\n",
              "        action: 'continue',\n",
              "      }\n",
              "    };\n",
              "\n",
              "    // Use a chunked sending to avoid message size limits. See b/62115660.\n",
              "    let position = 0;\n",
              "    do {\n",
              "      const length = Math.min(fileData.byteLength - position, MAX_PAYLOAD_SIZE);\n",
              "      const chunk = new Uint8Array(fileData, position, length);\n",
              "      position += length;\n",
              "\n",
              "      const base64 = btoa(String.fromCharCode.apply(null, chunk));\n",
              "      yield {\n",
              "        response: {\n",
              "          action: 'append',\n",
              "          file: file.name,\n",
              "          data: base64,\n",
              "        },\n",
              "      };\n",
              "\n",
              "      let percentDone = fileData.byteLength === 0 ?\n",
              "          100 :\n",
              "          Math.round((position / fileData.byteLength) * 100);\n",
              "      percent.textContent = `${percentDone}% done`;\n",
              "\n",
              "    } while (position < fileData.byteLength);\n",
              "  }\n",
              "\n",
              "  // All done.\n",
              "  yield {\n",
              "    response: {\n",
              "      action: 'complete',\n",
              "    }\n",
              "  };\n",
              "}\n",
              "\n",
              "scope.google = scope.google || {};\n",
              "scope.google.colab = scope.google.colab || {};\n",
              "scope.google.colab._files = {\n",
              "  _uploadFiles,\n",
              "  _uploadFilesContinue,\n",
              "};\n",
              "})(self);\n",
              "</script> "
            ]
          },
          "metadata": {}
        },
        {
          "output_type": "stream",
          "name": "stdout",
          "text": [
            "Saving image_label.npy to image_label.npy\n",
            "Saving image_value.npy to image_value.npy\n"
          ]
        }
      ]
    },
    {
      "cell_type": "code",
      "source": [
        "import numpy as np"
      ],
      "metadata": {
        "id": "h73Ut4ZjyFPg"
      },
      "execution_count": 3,
      "outputs": []
    },
    {
      "cell_type": "code",
      "source": [
        "reshaped_imagearr = np.load(\"image_value.npy\")\n",
        "one_hot_encoded = np.load('image_label.npy')\n",
        "\n",
        "print(f\"image Reshape{reshaped_imagearr.shape}\")\n",
        "print(f\"Label Reshape{one_hot_encoded.shape}\")"
      ],
      "metadata": {
        "colab": {
          "base_uri": "https://localhost:8080/"
        },
        "id": "nJk8F_p1yLEq",
        "outputId": "2e356006-fb57-4bbb-dff9-78af182db292"
      },
      "execution_count": 8,
      "outputs": [
        {
          "output_type": "stream",
          "name": "stdout",
          "text": [
            "image Reshape(30, 24, 32, 1)\n",
            "Label Reshape(30, 3)\n"
          ]
        }
      ]
    },
    {
      "cell_type": "code",
      "source": [
        "from sklearn.model_selection import train_test_split"
      ],
      "metadata": {
        "id": "PGvZhaf_yokQ"
      },
      "execution_count": 9,
      "outputs": []
    },
    {
      "cell_type": "code",
      "source": [
        "X_Atrain, X_test, y_Atrain, y_test = train_test_split(reshaped_imagearr,one_hot_encoded, test_size=0.4, random_state=42)\n",
        "X_Avalid, X_Atest, y_Avalid, y_Atest = train_test_split(X_test,y_test, test_size=0.5, random_state=42)\n",
        "\n",
        "print(f\"Train Set {len(y_Atrain)}:\")\n",
        "print(f\"valid Set {len(y_Avalid)}:\")\n",
        "print(f\"Test Set {len(y_Atest)}:\")\n"
      ],
      "metadata": {
        "colab": {
          "base_uri": "https://localhost:8080/"
        },
        "id": "flegnnIYySQi",
        "outputId": "aa9495ca-eeab-4f94-95e4-f144940b5ed4"
      },
      "execution_count": 10,
      "outputs": [
        {
          "output_type": "stream",
          "name": "stdout",
          "text": [
            "Train Set 18:\n",
            "valid Set 6:\n",
            "Test Set 6:\n"
          ]
        }
      ]
    },
    {
      "cell_type": "code",
      "source": [
        "import tensorflow as tf\n",
        "from tensorflow import keras"
      ],
      "metadata": {
        "id": "MvjZw4EZyzZL"
      },
      "execution_count": 12,
      "outputs": []
    },
    {
      "cell_type": "code",
      "source": [
        "# Define the CNN model\n",
        "def customCnnmodel(InS,OuTS):\n",
        "    model = keras.Sequential()\n",
        "    model.add (keras.layers.Conv2D(2,(3,3), activation='relu', input_shape=InS))\n",
        "    model.add (keras.layers.MaxPooling2D((2,2)))\n",
        "    model.add (keras.layers.Flatten())\n",
        "    model.add (keras.layers.Dense(10, activation='relu'))\n",
        "    model.add (keras. layers.Dense(OuTS, activation='softmax'))  # Assuming 10 classes for classification\n",
        "    # Compile the model\n",
        "    model.compile(optimizer='adam',\n",
        "              loss='categorical_crossentropy',  # Use sparse categorical crossentropy for integer labels\n",
        "              metrics=['accuracy'])\n",
        "    model.summary()\n",
        "    return model"
      ],
      "metadata": {
        "id": "o9HDW8Jgyq9b"
      },
      "execution_count": 13,
      "outputs": []
    },
    {
      "cell_type": "code",
      "source": [
        "model = customCnnmodel(X_Atrain[0].shape,3)"
      ],
      "metadata": {
        "colab": {
          "base_uri": "https://localhost:8080/"
        },
        "id": "P5VPyqzIyxUc",
        "outputId": "2fdab7bb-0462-4509-e493-9a65e86ec118"
      },
      "execution_count": 14,
      "outputs": [
        {
          "output_type": "stream",
          "name": "stdout",
          "text": [
            "Model: \"sequential\"\n",
            "_________________________________________________________________\n",
            " Layer (type)                Output Shape              Param #   \n",
            "=================================================================\n",
            " conv2d (Conv2D)             (None, 22, 30, 2)         20        \n",
            "                                                                 \n",
            " max_pooling2d (MaxPooling2  (None, 11, 15, 2)         0         \n",
            " D)                                                              \n",
            "                                                                 \n",
            " flatten (Flatten)           (None, 330)               0         \n",
            "                                                                 \n",
            " dense (Dense)               (None, 10)                3310      \n",
            "                                                                 \n",
            " dense_1 (Dense)             (None, 3)                 33        \n",
            "                                                                 \n",
            "=================================================================\n",
            "Total params: 3363 (13.14 KB)\n",
            "Trainable params: 3363 (13.14 KB)\n",
            "Non-trainable params: 0 (0.00 Byte)\n",
            "_________________________________________________________________\n"
          ]
        }
      ]
    },
    {
      "cell_type": "code",
      "source": [
        "history = model.fit(X_Atrain,y_Atrain,epochs=100,batch_size=32,validation_data=[X_Avalid,y_Avalid])"
      ],
      "metadata": {
        "colab": {
          "base_uri": "https://localhost:8080/"
        },
        "id": "PsohssBty-lH",
        "outputId": "fb43c274-a265-4413-a1d7-4631e0e0590e"
      },
      "execution_count": 15,
      "outputs": [
        {
          "output_type": "stream",
          "name": "stdout",
          "text": [
            "Epoch 1/100\n",
            "1/1 [==============================] - 2s 2s/step - loss: 1.0986 - accuracy: 0.3333 - val_loss: 1.1262 - val_accuracy: 0.1667\n",
            "Epoch 2/100\n",
            "1/1 [==============================] - 0s 74ms/step - loss: 1.0977 - accuracy: 0.3333 - val_loss: 1.1201 - val_accuracy: 0.1667\n",
            "Epoch 3/100\n",
            "1/1 [==============================] - 0s 57ms/step - loss: 1.0967 - accuracy: 0.3333 - val_loss: 1.1154 - val_accuracy: 0.1667\n",
            "Epoch 4/100\n",
            "1/1 [==============================] - 0s 53ms/step - loss: 1.0961 - accuracy: 0.3333 - val_loss: 1.1117 - val_accuracy: 0.1667\n",
            "Epoch 5/100\n",
            "1/1 [==============================] - 0s 53ms/step - loss: 1.0956 - accuracy: 0.3333 - val_loss: 1.1090 - val_accuracy: 0.1667\n",
            "Epoch 6/100\n",
            "1/1 [==============================] - 0s 62ms/step - loss: 1.0951 - accuracy: 0.3333 - val_loss: 1.1071 - val_accuracy: 0.1667\n",
            "Epoch 7/100\n",
            "1/1 [==============================] - 0s 71ms/step - loss: 1.0948 - accuracy: 0.3333 - val_loss: 1.1061 - val_accuracy: 0.1667\n",
            "Epoch 8/100\n",
            "1/1 [==============================] - 0s 67ms/step - loss: 1.0945 - accuracy: 0.3333 - val_loss: 1.1058 - val_accuracy: 0.1667\n",
            "Epoch 9/100\n",
            "1/1 [==============================] - 0s 68ms/step - loss: 1.0939 - accuracy: 0.3889 - val_loss: 1.1061 - val_accuracy: 0.1667\n",
            "Epoch 10/100\n",
            "1/1 [==============================] - 0s 50ms/step - loss: 1.0933 - accuracy: 0.3889 - val_loss: 1.1068 - val_accuracy: 0.1667\n",
            "Epoch 11/100\n",
            "1/1 [==============================] - 0s 69ms/step - loss: 1.0928 - accuracy: 0.3889 - val_loss: 1.1077 - val_accuracy: 0.1667\n",
            "Epoch 12/100\n",
            "1/1 [==============================] - 0s 67ms/step - loss: 1.0921 - accuracy: 0.3889 - val_loss: 1.1084 - val_accuracy: 0.1667\n",
            "Epoch 13/100\n",
            "1/1 [==============================] - 0s 64ms/step - loss: 1.0913 - accuracy: 0.3889 - val_loss: 1.1092 - val_accuracy: 0.1667\n",
            "Epoch 14/100\n",
            "1/1 [==============================] - 0s 65ms/step - loss: 1.0908 - accuracy: 0.3889 - val_loss: 1.1097 - val_accuracy: 0.1667\n",
            "Epoch 15/100\n",
            "1/1 [==============================] - 0s 52ms/step - loss: 1.0902 - accuracy: 0.3889 - val_loss: 1.1103 - val_accuracy: 0.1667\n",
            "Epoch 16/100\n",
            "1/1 [==============================] - 0s 58ms/step - loss: 1.0895 - accuracy: 0.3333 - val_loss: 1.1112 - val_accuracy: 0.1667\n",
            "Epoch 17/100\n",
            "1/1 [==============================] - 0s 70ms/step - loss: 1.0887 - accuracy: 0.3333 - val_loss: 1.1120 - val_accuracy: 0.1667\n",
            "Epoch 18/100\n",
            "1/1 [==============================] - 0s 67ms/step - loss: 1.0881 - accuracy: 0.3333 - val_loss: 1.1122 - val_accuracy: 0.1667\n",
            "Epoch 19/100\n",
            "1/1 [==============================] - 0s 71ms/step - loss: 1.0873 - accuracy: 0.3333 - val_loss: 1.1120 - val_accuracy: 0.1667\n",
            "Epoch 20/100\n",
            "1/1 [==============================] - 0s 42ms/step - loss: 1.0862 - accuracy: 0.3889 - val_loss: 1.1116 - val_accuracy: 0.1667\n",
            "Epoch 21/100\n",
            "1/1 [==============================] - 0s 42ms/step - loss: 1.0855 - accuracy: 0.3889 - val_loss: 1.1112 - val_accuracy: 0.1667\n",
            "Epoch 22/100\n",
            "1/1 [==============================] - 0s 35ms/step - loss: 1.0845 - accuracy: 0.3889 - val_loss: 1.1106 - val_accuracy: 0.1667\n",
            "Epoch 23/100\n",
            "1/1 [==============================] - 0s 36ms/step - loss: 1.0833 - accuracy: 0.3889 - val_loss: 1.1103 - val_accuracy: 0.1667\n",
            "Epoch 24/100\n",
            "1/1 [==============================] - 0s 39ms/step - loss: 1.0823 - accuracy: 0.3889 - val_loss: 1.1102 - val_accuracy: 0.1667\n",
            "Epoch 25/100\n",
            "1/1 [==============================] - 0s 35ms/step - loss: 1.0811 - accuracy: 0.3889 - val_loss: 1.1111 - val_accuracy: 0.1667\n",
            "Epoch 26/100\n",
            "1/1 [==============================] - 0s 36ms/step - loss: 1.0798 - accuracy: 0.3889 - val_loss: 1.1114 - val_accuracy: 0.1667\n",
            "Epoch 27/100\n",
            "1/1 [==============================] - 0s 37ms/step - loss: 1.0784 - accuracy: 0.3889 - val_loss: 1.1120 - val_accuracy: 0.1667\n",
            "Epoch 28/100\n",
            "1/1 [==============================] - 0s 37ms/step - loss: 1.0771 - accuracy: 0.3889 - val_loss: 1.1118 - val_accuracy: 0.1667\n",
            "Epoch 29/100\n",
            "1/1 [==============================] - 0s 35ms/step - loss: 1.0756 - accuracy: 0.3889 - val_loss: 1.1114 - val_accuracy: 0.1667\n",
            "Epoch 30/100\n",
            "1/1 [==============================] - 0s 39ms/step - loss: 1.0740 - accuracy: 0.3889 - val_loss: 1.1114 - val_accuracy: 0.1667\n",
            "Epoch 31/100\n",
            "1/1 [==============================] - 0s 37ms/step - loss: 1.0722 - accuracy: 0.4444 - val_loss: 1.1108 - val_accuracy: 0.1667\n",
            "Epoch 32/100\n",
            "1/1 [==============================] - 0s 36ms/step - loss: 1.0706 - accuracy: 0.5000 - val_loss: 1.1087 - val_accuracy: 0.3333\n",
            "Epoch 33/100\n",
            "1/1 [==============================] - 0s 36ms/step - loss: 1.0685 - accuracy: 0.5556 - val_loss: 1.1068 - val_accuracy: 0.3333\n",
            "Epoch 34/100\n",
            "1/1 [==============================] - 0s 37ms/step - loss: 1.0667 - accuracy: 0.5556 - val_loss: 1.1058 - val_accuracy: 0.3333\n",
            "Epoch 35/100\n",
            "1/1 [==============================] - 0s 37ms/step - loss: 1.0648 - accuracy: 0.5556 - val_loss: 1.1070 - val_accuracy: 0.3333\n",
            "Epoch 36/100\n",
            "1/1 [==============================] - 0s 51ms/step - loss: 1.0622 - accuracy: 0.5556 - val_loss: 1.1087 - val_accuracy: 0.3333\n",
            "Epoch 37/100\n",
            "1/1 [==============================] - 0s 38ms/step - loss: 1.0600 - accuracy: 0.5556 - val_loss: 1.1088 - val_accuracy: 0.3333\n",
            "Epoch 38/100\n",
            "1/1 [==============================] - 0s 43ms/step - loss: 1.0578 - accuracy: 0.5556 - val_loss: 1.1083 - val_accuracy: 0.3333\n",
            "Epoch 39/100\n",
            "1/1 [==============================] - 0s 40ms/step - loss: 1.0551 - accuracy: 0.5556 - val_loss: 1.1081 - val_accuracy: 0.3333\n",
            "Epoch 40/100\n",
            "1/1 [==============================] - 0s 55ms/step - loss: 1.0521 - accuracy: 0.5556 - val_loss: 1.1078 - val_accuracy: 0.3333\n",
            "Epoch 41/100\n",
            "1/1 [==============================] - 0s 37ms/step - loss: 1.0490 - accuracy: 0.5556 - val_loss: 1.1086 - val_accuracy: 0.3333\n",
            "Epoch 42/100\n",
            "1/1 [==============================] - 0s 38ms/step - loss: 1.0460 - accuracy: 0.5556 - val_loss: 1.1083 - val_accuracy: 0.3333\n",
            "Epoch 43/100\n",
            "1/1 [==============================] - 0s 37ms/step - loss: 1.0429 - accuracy: 0.5556 - val_loss: 1.1057 - val_accuracy: 0.3333\n",
            "Epoch 44/100\n",
            "1/1 [==============================] - 0s 37ms/step - loss: 1.0395 - accuracy: 0.5556 - val_loss: 1.1026 - val_accuracy: 0.3333\n",
            "Epoch 45/100\n",
            "1/1 [==============================] - 0s 38ms/step - loss: 1.0364 - accuracy: 0.5556 - val_loss: 1.0992 - val_accuracy: 0.3333\n",
            "Epoch 46/100\n",
            "1/1 [==============================] - 0s 38ms/step - loss: 1.0328 - accuracy: 0.5556 - val_loss: 1.0965 - val_accuracy: 0.3333\n",
            "Epoch 47/100\n",
            "1/1 [==============================] - 0s 56ms/step - loss: 1.0290 - accuracy: 0.5556 - val_loss: 1.0958 - val_accuracy: 0.3333\n",
            "Epoch 48/100\n",
            "1/1 [==============================] - 0s 38ms/step - loss: 1.0245 - accuracy: 0.5556 - val_loss: 1.0968 - val_accuracy: 0.3333\n",
            "Epoch 49/100\n",
            "1/1 [==============================] - 0s 38ms/step - loss: 1.0209 - accuracy: 0.5556 - val_loss: 1.0947 - val_accuracy: 0.3333\n",
            "Epoch 50/100\n",
            "1/1 [==============================] - 0s 38ms/step - loss: 1.0167 - accuracy: 0.5556 - val_loss: 1.0890 - val_accuracy: 0.3333\n",
            "Epoch 51/100\n",
            "1/1 [==============================] - 0s 37ms/step - loss: 1.0114 - accuracy: 0.5556 - val_loss: 1.0843 - val_accuracy: 0.3333\n",
            "Epoch 52/100\n",
            "1/1 [==============================] - 0s 38ms/step - loss: 1.0069 - accuracy: 0.5556 - val_loss: 1.0813 - val_accuracy: 0.3333\n",
            "Epoch 53/100\n",
            "1/1 [==============================] - 0s 38ms/step - loss: 1.0019 - accuracy: 0.5556 - val_loss: 1.0790 - val_accuracy: 0.3333\n",
            "Epoch 54/100\n",
            "1/1 [==============================] - 0s 38ms/step - loss: 0.9967 - accuracy: 0.6111 - val_loss: 1.0761 - val_accuracy: 0.3333\n",
            "Epoch 55/100\n",
            "1/1 [==============================] - 0s 43ms/step - loss: 0.9914 - accuracy: 0.6111 - val_loss: 1.0715 - val_accuracy: 0.3333\n",
            "Epoch 56/100\n",
            "1/1 [==============================] - 0s 40ms/step - loss: 0.9857 - accuracy: 0.6111 - val_loss: 1.0651 - val_accuracy: 0.3333\n",
            "Epoch 57/100\n",
            "1/1 [==============================] - 0s 38ms/step - loss: 0.9797 - accuracy: 0.6111 - val_loss: 1.0585 - val_accuracy: 0.3333\n",
            "Epoch 58/100\n",
            "1/1 [==============================] - 0s 38ms/step - loss: 0.9733 - accuracy: 0.6667 - val_loss: 1.0549 - val_accuracy: 0.3333\n",
            "Epoch 59/100\n",
            "1/1 [==============================] - 0s 61ms/step - loss: 0.9680 - accuracy: 0.6667 - val_loss: 1.0490 - val_accuracy: 0.3333\n",
            "Epoch 60/100\n",
            "1/1 [==============================] - 0s 42ms/step - loss: 0.9618 - accuracy: 0.7222 - val_loss: 1.0438 - val_accuracy: 0.3333\n",
            "Epoch 61/100\n",
            "1/1 [==============================] - 0s 37ms/step - loss: 0.9546 - accuracy: 0.7222 - val_loss: 1.0381 - val_accuracy: 0.3333\n",
            "Epoch 62/100\n",
            "1/1 [==============================] - 0s 38ms/step - loss: 0.9470 - accuracy: 0.7778 - val_loss: 1.0319 - val_accuracy: 0.3333\n",
            "Epoch 63/100\n",
            "1/1 [==============================] - 0s 40ms/step - loss: 0.9403 - accuracy: 0.7778 - val_loss: 1.0270 - val_accuracy: 0.3333\n",
            "Epoch 64/100\n",
            "1/1 [==============================] - 0s 38ms/step - loss: 0.9331 - accuracy: 0.7778 - val_loss: 1.0203 - val_accuracy: 0.3333\n",
            "Epoch 65/100\n",
            "1/1 [==============================] - 0s 41ms/step - loss: 0.9255 - accuracy: 0.7778 - val_loss: 1.0123 - val_accuracy: 0.3333\n",
            "Epoch 66/100\n",
            "1/1 [==============================] - 0s 39ms/step - loss: 0.9178 - accuracy: 0.7778 - val_loss: 1.0041 - val_accuracy: 0.3333\n",
            "Epoch 67/100\n",
            "1/1 [==============================] - 0s 36ms/step - loss: 0.9099 - accuracy: 0.7778 - val_loss: 0.9996 - val_accuracy: 0.3333\n",
            "Epoch 68/100\n",
            "1/1 [==============================] - 0s 38ms/step - loss: 0.9016 - accuracy: 0.7778 - val_loss: 0.9958 - val_accuracy: 0.3333\n",
            "Epoch 69/100\n",
            "1/1 [==============================] - 0s 39ms/step - loss: 0.8932 - accuracy: 0.7778 - val_loss: 0.9890 - val_accuracy: 0.3333\n",
            "Epoch 70/100\n",
            "1/1 [==============================] - 0s 38ms/step - loss: 0.8846 - accuracy: 0.7778 - val_loss: 0.9832 - val_accuracy: 0.5000\n",
            "Epoch 71/100\n",
            "1/1 [==============================] - 0s 38ms/step - loss: 0.8755 - accuracy: 0.7778 - val_loss: 0.9758 - val_accuracy: 0.5000\n",
            "Epoch 72/100\n",
            "1/1 [==============================] - 0s 38ms/step - loss: 0.8665 - accuracy: 0.7778 - val_loss: 0.9700 - val_accuracy: 0.5000\n",
            "Epoch 73/100\n",
            "1/1 [==============================] - 0s 43ms/step - loss: 0.8567 - accuracy: 0.7778 - val_loss: 0.9677 - val_accuracy: 0.5000\n",
            "Epoch 74/100\n",
            "1/1 [==============================] - 0s 39ms/step - loss: 0.8498 - accuracy: 0.7778 - val_loss: 0.9606 - val_accuracy: 0.5000\n",
            "Epoch 75/100\n",
            "1/1 [==============================] - 0s 39ms/step - loss: 0.8400 - accuracy: 0.7778 - val_loss: 0.9454 - val_accuracy: 0.5000\n",
            "Epoch 76/100\n",
            "1/1 [==============================] - 0s 42ms/step - loss: 0.8282 - accuracy: 0.7778 - val_loss: 0.9340 - val_accuracy: 0.5000\n",
            "Epoch 77/100\n",
            "1/1 [==============================] - 0s 40ms/step - loss: 0.8190 - accuracy: 0.7778 - val_loss: 0.9280 - val_accuracy: 0.5000\n",
            "Epoch 78/100\n",
            "1/1 [==============================] - 0s 39ms/step - loss: 0.8092 - accuracy: 0.7778 - val_loss: 0.9240 - val_accuracy: 0.5000\n",
            "Epoch 79/100\n",
            "1/1 [==============================] - 0s 39ms/step - loss: 0.7994 - accuracy: 0.7778 - val_loss: 0.9155 - val_accuracy: 0.5000\n",
            "Epoch 80/100\n",
            "1/1 [==============================] - 0s 44ms/step - loss: 0.7891 - accuracy: 0.7778 - val_loss: 0.9052 - val_accuracy: 0.5000\n",
            "Epoch 81/100\n",
            "1/1 [==============================] - 0s 45ms/step - loss: 0.7785 - accuracy: 0.7778 - val_loss: 0.8948 - val_accuracy: 0.5000\n",
            "Epoch 82/100\n",
            "1/1 [==============================] - 0s 56ms/step - loss: 0.7678 - accuracy: 0.8333 - val_loss: 0.8885 - val_accuracy: 0.5000\n",
            "Epoch 83/100\n",
            "1/1 [==============================] - 0s 38ms/step - loss: 0.7566 - accuracy: 0.8333 - val_loss: 0.8845 - val_accuracy: 0.5000\n",
            "Epoch 84/100\n",
            "1/1 [==============================] - 0s 39ms/step - loss: 0.7477 - accuracy: 0.8333 - val_loss: 0.8745 - val_accuracy: 0.5000\n",
            "Epoch 85/100\n",
            "1/1 [==============================] - 0s 41ms/step - loss: 0.7360 - accuracy: 0.8333 - val_loss: 0.8592 - val_accuracy: 0.5000\n",
            "Epoch 86/100\n",
            "1/1 [==============================] - 0s 37ms/step - loss: 0.7244 - accuracy: 0.8333 - val_loss: 0.8514 - val_accuracy: 0.5000\n",
            "Epoch 87/100\n",
            "1/1 [==============================] - 0s 36ms/step - loss: 0.7141 - accuracy: 0.8333 - val_loss: 0.8451 - val_accuracy: 0.5000\n",
            "Epoch 88/100\n",
            "1/1 [==============================] - 0s 37ms/step - loss: 0.7034 - accuracy: 0.8333 - val_loss: 0.8358 - val_accuracy: 0.5000\n",
            "Epoch 89/100\n",
            "1/1 [==============================] - 0s 37ms/step - loss: 0.6924 - accuracy: 0.8889 - val_loss: 0.8242 - val_accuracy: 0.6667\n",
            "Epoch 90/100\n",
            "1/1 [==============================] - 0s 37ms/step - loss: 0.6814 - accuracy: 0.8889 - val_loss: 0.8161 - val_accuracy: 0.6667\n",
            "Epoch 91/100\n",
            "1/1 [==============================] - 0s 44ms/step - loss: 0.6699 - accuracy: 0.8889 - val_loss: 0.8077 - val_accuracy: 0.6667\n",
            "Epoch 92/100\n",
            "1/1 [==============================] - 0s 39ms/step - loss: 0.6585 - accuracy: 0.8889 - val_loss: 0.7990 - val_accuracy: 0.6667\n",
            "Epoch 93/100\n",
            "1/1 [==============================] - 0s 38ms/step - loss: 0.6470 - accuracy: 0.8889 - val_loss: 0.7918 - val_accuracy: 0.6667\n",
            "Epoch 94/100\n",
            "1/1 [==============================] - 0s 36ms/step - loss: 0.6350 - accuracy: 0.8889 - val_loss: 0.7865 - val_accuracy: 0.6667\n",
            "Epoch 95/100\n",
            "1/1 [==============================] - 0s 37ms/step - loss: 0.6230 - accuracy: 0.8889 - val_loss: 0.7805 - val_accuracy: 0.6667\n",
            "Epoch 96/100\n",
            "1/1 [==============================] - 0s 37ms/step - loss: 0.6137 - accuracy: 0.8889 - val_loss: 0.7653 - val_accuracy: 0.6667\n",
            "Epoch 97/100\n",
            "1/1 [==============================] - 0s 36ms/step - loss: 0.6018 - accuracy: 0.8889 - val_loss: 0.7491 - val_accuracy: 0.6667\n",
            "Epoch 98/100\n",
            "1/1 [==============================] - 0s 37ms/step - loss: 0.5894 - accuracy: 0.8889 - val_loss: 0.7438 - val_accuracy: 0.6667\n",
            "Epoch 99/100\n",
            "1/1 [==============================] - 0s 39ms/step - loss: 0.5785 - accuracy: 0.8889 - val_loss: 0.7392 - val_accuracy: 0.6667\n",
            "Epoch 100/100\n",
            "1/1 [==============================] - 0s 39ms/step - loss: 0.5676 - accuracy: 0.8889 - val_loss: 0.7322 - val_accuracy: 0.6667\n"
          ]
        }
      ]
    },
    {
      "cell_type": "code",
      "source": [
        "prediction = model.predict(X_Atest)\n",
        "predicted_classes = np.argmax(prediction, axis=1)\n",
        "print(f\"Target  {y_Atest}\")\n",
        "print(f\"Predict {predicted_classes}\")\n",
        "prediction[0]"
      ],
      "metadata": {
        "colab": {
          "base_uri": "https://localhost:8080/"
        },
        "id": "uuPZ3DV7zBBa",
        "outputId": "b1e0bf74-58af-4459-b1ee-1bc2258da2f9"
      },
      "execution_count": 16,
      "outputs": [
        {
          "output_type": "stream",
          "name": "stdout",
          "text": [
            "1/1 [==============================] - 0s 146ms/step\n",
            "Target  [[1. 0. 0.]\n",
            " [1. 0. 0.]\n",
            " [0. 0. 1.]\n",
            " [0. 1. 0.]\n",
            " [1. 0. 0.]\n",
            " [0. 0. 1.]]\n",
            "Predict [0 0 1 1 0 2]\n"
          ]
        },
        {
          "output_type": "execute_result",
          "data": {
            "text/plain": [
              "array([0.6487851 , 0.19896224, 0.1522526 ], dtype=float32)"
            ]
          },
          "metadata": {},
          "execution_count": 16
        }
      ]
    },
    {
      "cell_type": "code",
      "source": [
        "converter = tf.lite.TFLiteConverter.from_keras_model(model)\n",
        "tflite_model = converter.convert()\n",
        "open(\"object_model_no_quat.tflite\", \"wb\").write(tflite_model)"
      ],
      "metadata": {
        "colab": {
          "base_uri": "https://localhost:8080/"
        },
        "id": "QVIwAdgmzE-v",
        "outputId": "7d64613f-30c4-49e6-da5c-90de456440c8"
      },
      "execution_count": 17,
      "outputs": [
        {
          "output_type": "execute_result",
          "data": {
            "text/plain": [
              "16176"
            ]
          },
          "metadata": {},
          "execution_count": 17
        }
      ]
    },
    {
      "cell_type": "code",
      "source": [
        "import os"
      ],
      "metadata": {
        "id": "4K57PefTzNuz"
      },
      "execution_count": 18,
      "outputs": []
    },
    {
      "cell_type": "code",
      "source": [
        "basic_model_size = os.path.getsize(\"object_model_no_quat.tflite\")\n",
        "print(\"Model is %d bytes\" % basic_model_size)"
      ],
      "metadata": {
        "colab": {
          "base_uri": "https://localhost:8080/"
        },
        "id": "dtMNzGexzJWj",
        "outputId": "7a159c95-b6f8-413d-e8bc-ab9814a27636"
      },
      "execution_count": 19,
      "outputs": [
        {
          "output_type": "stream",
          "name": "stdout",
          "text": [
            "Model is 16176 bytes\n"
          ]
        }
      ]
    },
    {
      "cell_type": "code",
      "source": [
        "model.save(\"object_model.h5\")"
      ],
      "metadata": {
        "colab": {
          "base_uri": "https://localhost:8080/"
        },
        "id": "yJvAURGkznOR",
        "outputId": "9321ac3c-efbb-41cf-8d56-abe5c6a14d66"
      },
      "execution_count": 23,
      "outputs": [
        {
          "output_type": "stream",
          "name": "stderr",
          "text": [
            "/usr/local/lib/python3.10/dist-packages/keras/src/engine/training.py:3103: UserWarning: You are saving your model as an HDF5 file via `model.save()`. This file format is considered legacy. We recommend using instead the native Keras format, e.g. `model.save('my_model.keras')`.\n",
            "  saving_api.save_model(\n"
          ]
        }
      ]
    },
    {
      "cell_type": "code",
      "source": [
        "interpreter = tf.lite.Interpreter(\"object_model_no_quat.tflite\")\n",
        "interpreter.allocate_tensors()"
      ],
      "metadata": {
        "id": "RimRwwlKzVlm"
      },
      "execution_count": 20,
      "outputs": []
    },
    {
      "cell_type": "code",
      "source": [
        "input_details = interpreter.get_input_details()[0]['index']\n",
        "output_details = interpreter.get_output_details()[0]['index']\n"
      ],
      "metadata": {
        "id": "kGwksb_UzbzG"
      },
      "execution_count": 21,
      "outputs": []
    },
    {
      "cell_type": "code",
      "source": [
        "x_value_tensor = tf.convert_to_tensor([X_Atest[0]],dtype=np.float32)\n",
        "interpreter.set_tensor(input_details,x_value_tensor)\n",
        "interpreter.invoke()\n",
        "interpreter.get_tensor(output_details)[0]\n",
        "\n",
        "\n",
        ""
      ],
      "metadata": {
        "colab": {
          "base_uri": "https://localhost:8080/"
        },
        "id": "ZywtEU8Rzc87",
        "outputId": "b49c67d5-f775-4f22-c3d3-8baf36a85315"
      },
      "execution_count": 22,
      "outputs": [
        {
          "output_type": "execute_result",
          "data": {
            "text/plain": [
              "array([0.64878446, 0.19896278, 0.15225272], dtype=float32)"
            ]
          },
          "metadata": {},
          "execution_count": 22
        }
      ]
    },
    {
      "cell_type": "code",
      "source": [
        "def hex_to_array(hex_data,var_name):\n",
        "    c_str =''\n",
        "\n",
        "    c_str += '#ifndef ' + var_name.upper() + '_H\\n'\n",
        "    c_str += '#define ' + var_name.upper() + '_H\\n'\n",
        "\n",
        "    c_str += 'const unsigned int ' + var_name + '_len = ' +  str(len(hex_data)) +';\\n'\n",
        "\n",
        "    c_str += 'const unsigned char ' + var_name + '[] = {'\n",
        "    hex_array=[]\n",
        "\n",
        "    for i, val in enumerate(hex_data):\n",
        "        hex_str = format(val,'#04x')\n",
        "\n",
        "        if (i+1)<len(hex_data):\n",
        "            hex_str +=','\n",
        "        if(i+1)%12 ==0:\n",
        "            hex_str +='\\n'\n",
        "        hex_array.append(hex_str)\n",
        "\n",
        "    c_str += '\\n' + format(''.join(hex_array)) + \"\\n};\\n\\n\"\n",
        "    c_str += '#endif  //' + var_name.upper()+ '_H'\n",
        "\n",
        "    return c_str"
      ],
      "metadata": {
        "id": "KMMnQ0qMzfjr"
      },
      "execution_count": 26,
      "outputs": []
    },
    {
      "cell_type": "code",
      "source": [
        "with open(\"object_model.h\",'w') as file :\n",
        "        file.write(hex_to_array(tflite_model,\"object_model\"))"
      ],
      "metadata": {
        "id": "2Wy7S3s70aAM"
      },
      "execution_count": 27,
      "outputs": []
    },
    {
      "cell_type": "code",
      "source": [],
      "metadata": {
        "id": "jhCvPeKk0z7_"
      },
      "execution_count": null,
      "outputs": []
    }
  ]
}